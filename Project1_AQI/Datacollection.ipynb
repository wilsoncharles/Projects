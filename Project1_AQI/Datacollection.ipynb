{
 "cells": [
  {
   "cell_type": "code",
   "execution_count": 16,
   "id": "716a8fed",
   "metadata": {},
   "outputs": [],
   "source": [
    "import os\n",
    "import time\n",
    "import requests\n",
    "import sys"
   ]
  },
  {
   "cell_type": "code",
   "execution_count": 25,
   "id": "43f5b3a7",
   "metadata": {},
   "outputs": [],
   "source": [
    "def retrieve_html_data():\n",
    "    for year in range(2013,2019):\n",
    "        for month in range(1,13):\n",
    "            if (month<10):\n",
    "                url = 'https://en.tutiempo.net/climate/0{}-{}/ws-432950.html'.format(month,year)\n",
    "            else:\n",
    "                url = 'https://en.tutiempo.net/climate/{}-{}/ws-432950.html'.format(month,year)\n",
    "            texts= requests.get(url)\n",
    "            text_utf = texts.text.encode('utf=8')\n",
    "            \n",
    "            if not os.path.exists(\"Data/Html_data/{}\".format(year)):\n",
    "                os.makedirs(\"Data/Html_data/{}\".format(year))\n",
    "            with open(\"Data/Html_data/{}/{}.html\".format(year,month),\"wb\") as output:\n",
    "                output.write(text_utf)\n",
    "            \n",
    "            sys.stdout.flush()\n",
    "            "
   ]
  },
  {
   "cell_type": "code",
   "execution_count": 26,
   "id": "2b27041e",
   "metadata": {
    "scrolled": true
   },
   "outputs": [
    {
     "name": "stdout",
     "output_type": "stream",
     "text": [
      "Time taken 15.892024993896484\n"
     ]
    }
   ],
   "source": [
    "if __name__ == \"__main__\":\n",
    "    start_time = time.time()\n",
    "    retrieve_html_data()\n",
    "    stop_time = time.time()\n",
    "    print(\"Time taken {}\".format(stop_time-start_time))\n",
    "        "
   ]
  }
 ],
 "metadata": {
  "kernelspec": {
   "display_name": "newpy",
   "language": "python",
   "name": "newpy"
  },
  "language_info": {
   "codemirror_mode": {
    "name": "ipython",
    "version": 3
   },
   "file_extension": ".py",
   "mimetype": "text/x-python",
   "name": "python",
   "nbconvert_exporter": "python",
   "pygments_lexer": "ipython3",
   "version": "3.9.4"
  }
 },
 "nbformat": 4,
 "nbformat_minor": 5
}
